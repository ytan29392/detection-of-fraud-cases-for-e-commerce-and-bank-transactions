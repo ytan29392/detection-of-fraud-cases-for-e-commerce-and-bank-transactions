{
 "cells": [
  {
   "cell_type": "markdown",
   "id": "a75426da",
   "metadata": {},
   "source": [
    "Test API"
   ]
  },
  {
   "cell_type": "code",
   "execution_count": null,
   "id": "56e6d192",
   "metadata": {},
   "outputs": [],
   "source": [
    "import requests\n",
    "\n",
    "url = \"http://127.0.0.1:8000/predict\"\n",
    "sample_data = {\n",
    "    \"features\": [0.5, 1.2, -0.7, 0.3, 0.8]  # Replace with real scaled sample\n",
    "}\n",
    "\n",
    "response = requests.post(url, json=sample_data)\n",
    "print(response.json())\n",
    "\n",
    "# Test Explain endpoint\n",
    "url_explain = \"http://127.0.0.1:8000/explain\"\n",
    "response = requests.post(url_explain, json=sample_data)\n",
    "print(\"SHAP values:\", response.json()[\"shap_values\"])\n"
   ]
  }
 ],
 "metadata": {
  "kernelspec": {
   "display_name": "env",
   "language": "python",
   "name": "python3"
  },
  "language_info": {
   "codemirror_mode": {
    "name": "ipython",
    "version": 3
   },
   "file_extension": ".py",
   "mimetype": "text/x-python",
   "name": "python",
   "nbconvert_exporter": "python",
   "pygments_lexer": "ipython3",
   "version": "3.11.9"
  }
 },
 "nbformat": 4,
 "nbformat_minor": 5
}
