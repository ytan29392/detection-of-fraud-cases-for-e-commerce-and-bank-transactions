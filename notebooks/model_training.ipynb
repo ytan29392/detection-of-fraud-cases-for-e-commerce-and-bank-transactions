{
 "cells": [
  {
   "cell_type": "markdown",
   "id": "af00555e",
   "metadata": {},
   "source": [
    "Import"
   ]
  },
  {
   "cell_type": "code",
   "execution_count": 1,
   "id": "666aeb0e",
   "metadata": {},
   "outputs": [],
   "source": [
    "import sys\n",
    "import pandas as pd\n",
    "sys.path.append(\"../src\")\n",
    "\n",
    "from model import FraudModel"
   ]
  },
  {
   "cell_type": "markdown",
   "id": "e499a806",
   "metadata": {},
   "source": [
    "Load Preprocessed Data"
   ]
  },
  {
   "cell_type": "code",
   "execution_count": null,
   "id": "899aecf4",
   "metadata": {},
   "outputs": [],
   "source": [
    "X_train = pd.read_csv(\"../data/processed/X_train.csv\").values\n",
    "X_test = pd.read_csv(\"../data/processed/X_test.csv\").values\n",
    "y_train = pd.read_csv(\"../data/processed/y_train.csv\").values.ravel()\n",
    "y_test = pd.read_csv(\"../data/processed/y_test.csv\").values.ravel()\n",
    "\n",
    "print(\"Data Loaded:\")\n",
    "print(\"X_train:\", X_train.shape, \"X_test:\", X_test.shape)\n"
   ]
  },
  {
   "cell_type": "markdown",
   "id": "111284b9",
   "metadata": {},
   "source": [
    " Initialize and Train Models"
   ]
  },
  {
   "cell_type": "code",
   "execution_count": null,
   "id": "e5493872",
   "metadata": {},
   "outputs": [],
   "source": [
    "fraud_model = FraudModel()\n",
    "fraud_model.train(X_train, y_train)"
   ]
  },
  {
   "cell_type": "markdown",
   "id": "0f535b38",
   "metadata": {},
   "source": [
    "Evaluate Models"
   ]
  },
  {
   "cell_type": "code",
   "execution_count": null,
   "id": "190e7a2a",
   "metadata": {},
   "outputs": [],
   "source": [
    "scores = fraud_model.evaluate(X_test, y_test)\n",
    "\n",
    "# Display comparison\n",
    "print(\"\\nModel Comparison:\")\n",
    "for model, metrics in scores.items():\n",
    "    print(f\"{model} -> Precision: {metrics['precision']:.3f}, Recall: {metrics['recall']:.3f}, F1: {metrics['f1-score']:.3f}, ROC-AUC: {metrics['roc-auc']:.3f}\")\n"
   ]
  },
  {
   "cell_type": "markdown",
   "id": "b61c8a8c",
   "metadata": {},
   "source": [
    "Pick Best Model and Save"
   ]
  },
  {
   "cell_type": "code",
   "execution_count": null,
   "id": "6a18d23e",
   "metadata": {},
   "outputs": [],
   "source": [
    "best_model = max(scores, key=lambda m: scores[m][\"roc-auc\"]) \n",
    "fraud_model.save_model(best_model, path=\"../scripts/fraud_model.pkl\")"
   ]
  }
 ],
 "metadata": {
  "kernelspec": {
   "display_name": "env",
   "language": "python",
   "name": "python3"
  },
  "language_info": {
   "codemirror_mode": {
    "name": "ipython",
    "version": 3
   },
   "file_extension": ".py",
   "mimetype": "text/x-python",
   "name": "python",
   "nbconvert_exporter": "python",
   "pygments_lexer": "ipython3",
   "version": "3.11.9"
  }
 },
 "nbformat": 4,
 "nbformat_minor": 5
}
