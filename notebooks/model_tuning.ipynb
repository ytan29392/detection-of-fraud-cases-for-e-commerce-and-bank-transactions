{
 "cells": [
  {
   "cell_type": "markdown",
   "id": "2a9c1ae2",
   "metadata": {},
   "source": [
    "Import"
   ]
  },
  {
   "cell_type": "code",
   "execution_count": 1,
   "id": "5367e63e",
   "metadata": {},
   "outputs": [],
   "source": [
    "import sys\n",
    "import pandas as pd\n",
    "sys.path.append(\"../src\") \n",
    "from tuning import ModelTuning"
   ]
  },
  {
   "cell_type": "markdown",
   "id": "ed741ab5",
   "metadata": {},
   "source": [
    "Load Preprocessed Data"
   ]
  },
  {
   "cell_type": "code",
   "execution_count": null,
   "id": "060449f4",
   "metadata": {},
   "outputs": [],
   "source": [
    "X_train = pd.read_csv(\"../data/processed/X_train.csv\").values\n",
    "y_train = pd.read_csv(\"../data/processed/y_train.csv\").values.ravel()\n",
    "\n",
    "print(\"Training Data Loaded:\", X_train.shape, y_train.shape)"
   ]
  },
  {
   "cell_type": "markdown",
   "id": "eefc2753",
   "metadata": {},
   "source": [
    "Initialize Tuner"
   ]
  },
  {
   "cell_type": "code",
   "execution_count": 2,
   "id": "fc7f3cc2",
   "metadata": {},
   "outputs": [],
   "source": [
    "tuner = ModelTuning()"
   ]
  },
  {
   "cell_type": "markdown",
   "id": "22ce1f4d",
   "metadata": {},
   "source": [
    "Tune Random Forest"
   ]
  },
  {
   "cell_type": "code",
   "execution_count": null,
   "id": "e0b7a080",
   "metadata": {},
   "outputs": [],
   "source": [
    "print(\"\\nTuning Random Forest...\")\n",
    "rf_model, rf_params, rf_score = tuner.tune_random_forest(X_train, y_train)\n",
    "print(\"Best RF Params:\", rf_params)\n",
    "print(\"Best RF ROC-AUC:\", rf_score)"
   ]
  },
  {
   "cell_type": "markdown",
   "id": "610f7825",
   "metadata": {},
   "source": [
    "Tune XGBoost"
   ]
  },
  {
   "cell_type": "code",
   "execution_count": null,
   "id": "51e4a5dc",
   "metadata": {},
   "outputs": [],
   "source": [
    "print(\"\\nTuning XGBoost...\")\n",
    "xgb_model, xgb_params, xgb_score = tuner.tune_xgboost(X_train, y_train)\n",
    "print(\"Best XGB Params:\", xgb_params)\n",
    "print(\"Best XGB ROC-AUC:\", xgb_score)"
   ]
  },
  {
   "cell_type": "markdown",
   "id": "3da17187",
   "metadata": {},
   "source": [
    "Compare & Save Best Model"
   ]
  },
  {
   "cell_type": "code",
   "execution_count": null,
   "id": "fca63614",
   "metadata": {},
   "outputs": [],
   "source": [
    "if rf_score >= xgb_score:\n",
    "    print(\"\\nBest Model: Random Forest\")\n",
    "    tuner.best_model = rf_model\n",
    "else:\n",
    "    print(\"\\nBest Model: XGBoost\")\n",
    "    tuner.best_model = xgb_model\n",
    "\n",
    "tuner.save_best_model(path=\"../scripts/tuned_model.pkl\")\n",
    "print(\"Tuning Complete!\")\n"
   ]
  }
 ],
 "metadata": {
  "kernelspec": {
   "display_name": "env",
   "language": "python",
   "name": "python3"
  },
  "language_info": {
   "codemirror_mode": {
    "name": "ipython",
    "version": 3
   },
   "file_extension": ".py",
   "mimetype": "text/x-python",
   "name": "python",
   "nbconvert_exporter": "python",
   "pygments_lexer": "ipython3",
   "version": "3.11.9"
  }
 },
 "nbformat": 4,
 "nbformat_minor": 5
}
