{
 "cells": [
  {
   "cell_type": "markdown",
   "id": "cc948c1f",
   "metadata": {},
   "source": [
    "Import"
   ]
  },
  {
   "cell_type": "code",
   "execution_count": null,
   "id": "1b0928bd",
   "metadata": {},
   "outputs": [],
   "source": [
    "import sys\n",
    "import pandas as pd\n",
    "import seaborn as sns\n",
    "import matplotlib.pyplot as plt\n",
    "import os\n",
    "\n",
    "sys.path.append(\"../src\")\n",
    "from data_pipeline import DataPipeline"
   ]
  },
  {
   "cell_type": "markdown",
   "id": "e421f2d3",
   "metadata": {},
   "source": [
    "Load Data"
   ]
  },
  {
   "cell_type": "code",
   "execution_count": null,
   "id": "5ce2a646",
   "metadata": {},
   "outputs": [],
   "source": [
    "pipeline = DataPipeline(filepath=\"../data/sample.csv\", target_col=\"is_fraud\")\n",
    "df = pipeline.load_data()\n",
    "\n",
    "print(\"Dataset Shape:\", df.shape)\n",
    "print(df.head())\n",
    "print(\"\\nColumn Types:\\n\", df.dtypes)\n",
    "print(\"\\nMissing Values:\\n\", df.isnull().sum())\n",
    "\n",
    "if 'is_fraud' in df.columns:\n",
    "    print(\"\\nFraud Class Distribution:\\n\", df['is_fraud'].value_counts(normalize=True))"
   ]
  },
  {
   "cell_type": "markdown",
   "id": "c5f62f49",
   "metadata": {},
   "source": [
    "Visualize Data"
   ]
  },
  {
   "cell_type": "code",
   "execution_count": null,
   "id": "614f6e5e",
   "metadata": {},
   "outputs": [],
   "source": [
    "if 'is_fraud' in df.columns:\n",
    "    sns.countplot(x='is_fraud', data=df)\n",
    "    plt.title(\"Fraud vs Non-Fraud Distribution\")\n",
    "    plt.show()\n",
    "\n",
    "if 'amount' in df.columns and 'is_fraud' in df.columns:\n",
    "    sns.boxplot(x='is_fraud', y='amount', data=df)\n",
    "    plt.title(\"Transaction Amount by Fraud Status\")\n",
    "    plt.show()\n",
    "\n",
    "plt.figure(figsize=(10, 6))\n",
    "sns.heatmap(df.corr(numeric_only=True), cmap='coolwarm', annot=False)\n",
    "plt.title(\"Feature Correlation Heatmap\")\n",
    "plt.show()"
   ]
  },
  {
   "cell_type": "markdown",
   "id": "e67733b8",
   "metadata": {},
   "source": [
    "Preprocess"
   ]
  },
  {
   "cell_type": "code",
   "execution_count": null,
   "id": "f05075c1",
   "metadata": {},
   "outputs": [],
   "source": [
    "df_clean = pipeline.preprocess(df)"
   ]
  },
  {
   "cell_type": "markdown",
   "id": "b8d1bdd5",
   "metadata": {},
   "source": [
    "Balance & Scale"
   ]
  },
  {
   "cell_type": "code",
   "execution_count": null,
   "id": "a28851dc",
   "metadata": {},
   "outputs": [],
   "source": [
    "X_scaled, y_res = pipeline.balance_and_scale(df_clean)\n",
    "print(\"\\nBalanced Class Distribution:\\n\", pd.Series(y_res).value_counts())"
   ]
  },
  {
   "cell_type": "markdown",
   "id": "50857014",
   "metadata": {},
   "source": [
    "Train/Test Split"
   ]
  },
  {
   "cell_type": "code",
   "execution_count": null,
   "id": "885eb2c3",
   "metadata": {},
   "outputs": [],
   "source": [
    "X_train, X_test, y_train, y_test = pipeline.split_data(X_scaled, y_res)\n",
    "print(\"\\nShapes:\")\n",
    "print(\"X_train:\", X_train.shape)\n",
    "print(\"X_test:\", X_test.shape)\n",
    "print(\"y_train:\", y_train.shape)\n",
    "print(\"y_test:\", y_test.shape)"
   ]
  },
  {
   "cell_type": "markdown",
   "id": "21043c8c",
   "metadata": {},
   "source": [
    "Save Processed Data"
   ]
  },
  {
   "cell_type": "code",
   "execution_count": null,
   "id": "55be60a8",
   "metadata": {},
   "outputs": [],
   "source": [
    "pipeline.save_splits(X_train, X_test, y_train, y_test)\n",
    "print(\"\\nPreprocessing complete. Data saved to ../data/processed/\")"
   ]
  }
 ],
 "metadata": {
  "kernelspec": {
   "display_name": "venv",
   "language": "python",
   "name": "python3"
  },
  "language_info": {
   "name": "python",
   "version": "3.11.9"
  }
 },
 "nbformat": 4,
 "nbformat_minor": 5
}
