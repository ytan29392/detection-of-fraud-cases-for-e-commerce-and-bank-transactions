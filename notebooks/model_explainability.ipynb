{
 "cells": [
  {
   "cell_type": "markdown",
   "id": "5ba9bb18",
   "metadata": {},
   "source": [
    "Import"
   ]
  },
  {
   "cell_type": "code",
   "execution_count": null,
   "id": "2def9bb8",
   "metadata": {},
   "outputs": [],
   "source": [
    "\n",
    "import sys\n",
    "import pandas as pd\n",
    "import shap\n",
    "sys.path.append(\"../src\")\n",
    "\n",
    "from explainability import ModelExplainability"
   ]
  },
  {
   "cell_type": "markdown",
   "id": "7df98cf5",
   "metadata": {},
   "source": [
    "Load Data and Model"
   ]
  },
  {
   "cell_type": "code",
   "execution_count": null,
   "id": "f4a70b97",
   "metadata": {},
   "outputs": [],
   "source": [
    "X_test = pd.read_csv(\"../data/processed/X_test.csv\").values\n",
    "feature_names = pd.read_csv(\"../data/processed/X_test.csv\").columns  # For labels\n",
    "\n",
    "explainer_tool = ModelExplainability(model_path=\"../scripts/fraud_model.pkl\")"
   ]
  },
  {
   "cell_type": "markdown",
   "id": "2876f103",
   "metadata": {},
   "source": [
    "Compute SHAP Values"
   ]
  },
  {
   "cell_type": "code",
   "execution_count": null,
   "id": "3cac3b03",
   "metadata": {},
   "outputs": [],
   "source": [
    "X_sample = X_test[:200]  # Only 200 rows for speed\n",
    "shap_values = explainer_tool.compute_shap_values(X_sample)"
   ]
  },
  {
   "cell_type": "markdown",
   "id": "9ae78043",
   "metadata": {},
   "source": [
    "Global Feature Importance"
   ]
  },
  {
   "cell_type": "code",
   "execution_count": null,
   "id": "914d8de2",
   "metadata": {},
   "outputs": [],
   "source": [
    "explainer_tool.plot_summary(shap_values, X_sample, feature_names=feature_names)"
   ]
  },
  {
   "cell_type": "markdown",
   "id": "30e205fc",
   "metadata": {},
   "source": [
    "Local Explanation for One Transaction"
   ]
  },
  {
   "cell_type": "code",
   "execution_count": null,
   "id": "564f5d22",
   "metadata": {},
   "outputs": [],
   "source": [
    "explainer_tool.plot_force(shap_values, X_sample, index=5)  # Example: row 5"
   ]
  }
 ],
 "metadata": {
  "kernelspec": {
   "display_name": "env",
   "language": "python",
   "name": "python3"
  },
  "language_info": {
   "codemirror_mode": {
    "name": "ipython",
    "version": 3
   },
   "file_extension": ".py",
   "mimetype": "text/x-python",
   "name": "python",
   "nbconvert_exporter": "python",
   "pygments_lexer": "ipython3",
   "version": "3.11.9"
  }
 },
 "nbformat": 4,
 "nbformat_minor": 5
}
